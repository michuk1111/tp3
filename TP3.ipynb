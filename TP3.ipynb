
Chercher les mots les plus proches d'un terme donné
ville
model.wv.most_similar("ville", topn=10)
[('commune', 0.8959477543830872),
 ('compagnie', 0.8681012988090515),
 ('province', 0.8562589883804321),
 ('collectivite', 0.8544464111328125),
 ('communaute', 0.8489748239517212),
 ('societe', 0.8475714325904846),
 ('liste_civile', 0.8433848023414612),
 ('compagnie_concessionnaire', 0.8144405484199524),
 ('compagnie_anglaise', 0.8119360208511353),
 ('caisse_communale', 0.79644376039505)]

 Chercher les mots les plus proches d'un terme donné
pomme
model.wv.most_similar("pomme", topn=10)
[('fecule', 0.8725882172584534),
 ('noix', 0.8707128763198853),
 ('salee', 0.8301916718482971),
 ('vermicelle', 0.8230583667755127),
 ('moutarde', 0.8156293034553528),
 ('pommes', 0.8142591714859009),
 ('garnie', 0.8136926889419556),
 ('bruyere', 0.8121010661125183),
 ('creme', 0.8084103465080261),
 ('muscade', 0.8073376417160034)]

Chercher les mots les plus proches d'un terme donné
model.wv.most_similar("politique", topn=10)
[('conception', 0.9230762720108032),
 ('notion', 0.9176850318908691),
 ('tache', 0.911980926990509),
 ('personnalite', 0.9029307961463928),
 ('sagesse', 0.902564287185669),
 ('sollicitude', 0.8961755633354187),
 ('pensee', 0.8936887383460999),
 ('preoccupation', 0.891582190990448),
 ('passion', 0.8881807923316956),
 ('propagande', 0.8847360014915466)]

 
ville
model.wv.similarity("commune", "ville")
0.89855653

boulevard
model.wv.similarity("rue", "boulevard")
0.73418003

model.wv.similarity("pomme", "poire")
0.4063376
